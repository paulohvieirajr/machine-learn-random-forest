{
 "cells": [
  {
   "cell_type": "markdown",
   "id": "f1e7c2ed-80f0-42f5-ae42-56aad0c2dc5d",
   "metadata": {},
   "source": [
    "### Importando as bibliotecas\n"
   ]
  },
  {
   "cell_type": "code",
   "execution_count": 7,
   "id": "44c75ca8-0f3c-4eb3-a504-4308e3d603af",
   "metadata": {},
   "outputs": [],
   "source": [
    "import pandas as pd\n",
    "from imblearn.under_sampling import RandomUnderSampler, TomekLinks\n",
    "from sklearn.model_selection import train_test_split\n",
    "from sklearn.metrics import accuracy_score"
   ]
  },
  {
   "cell_type": "markdown",
   "id": "c5e2daea-9536-4deb-b28f-835d21f375a7",
   "metadata": {},
   "source": [
    "### Base de dados"
   ]
  },
  {
   "cell_type": "code",
   "execution_count": 8,
   "id": "4e9f4bd7-0c8c-45f3-9516-f5a43e1e8d1a",
   "metadata": {},
   "outputs": [],
   "source": [
    "dados_diabetes = pd.read_csv('./dataset/diabetes.csv', sep=';')"
   ]
  },
  {
   "cell_type": "markdown",
   "id": "317aa8f4-8ccd-47fa-8318-dba420ff8b10",
   "metadata": {},
   "source": [
    "### Verificando dados do dataset"
   ]
  },
  {
   "cell_type": "code",
   "execution_count": 9,
   "id": "d9b94465-57f5-4e11-8de1-967bbc91e5ce",
   "metadata": {},
   "outputs": [
    {
     "name": "stdout",
     "output_type": "stream",
     "text": [
      "<class 'pandas.core.frame.DataFrame'>\n",
      "RangeIndex: 768 entries, 0 to 767\n",
      "Data columns (total 9 columns):\n",
      " #   Column                  Non-Null Count  Dtype  \n",
      "---  ------                  --------------  -----  \n",
      " 0   gravidez                768 non-null    int64  \n",
      " 1   glicose                 768 non-null    int64  \n",
      " 2   pressao_sangue          768 non-null    int64  \n",
      " 3   espessura_pele          768 non-null    int64  \n",
      " 4   insulina                768 non-null    int64  \n",
      " 5   IMC                     768 non-null    float64\n",
      " 6   predisposicao_diabetes  768 non-null    float64\n",
      " 7   idade                   768 non-null    int64  \n",
      " 8   diabetes                768 non-null    int64  \n",
      "dtypes: float64(2), int64(7)\n",
      "memory usage: 54.1 KB\n"
     ]
    }
   ],
   "source": [
    "dados_diabetes.info()"
   ]
  },
  {
   "cell_type": "markdown",
   "id": "63747f72-e19c-4c9d-9d68-0f099bf3941e",
   "metadata": {},
   "source": [
    "### Tratando e analisando dados"
   ]
  },
  {
   "cell_type": "code",
   "execution_count": 10,
   "id": "05f31ae7-01f9-4626-8d86-9c4b5fc2fe92",
   "metadata": {},
   "outputs": [
    {
     "data": {
      "text/html": [
       "<div>\n",
       "<style scoped>\n",
       "    .dataframe tbody tr th:only-of-type {\n",
       "        vertical-align: middle;\n",
       "    }\n",
       "\n",
       "    .dataframe tbody tr th {\n",
       "        vertical-align: top;\n",
       "    }\n",
       "\n",
       "    .dataframe thead th {\n",
       "        text-align: right;\n",
       "    }\n",
       "</style>\n",
       "<table border=\"1\" class=\"dataframe\">\n",
       "  <thead>\n",
       "    <tr style=\"text-align: right;\">\n",
       "      <th></th>\n",
       "      <th>gravidez</th>\n",
       "      <th>glicose</th>\n",
       "      <th>pressao_sangue</th>\n",
       "      <th>espessura_pele</th>\n",
       "      <th>insulina</th>\n",
       "      <th>IMC</th>\n",
       "      <th>predisposicao_diabetes</th>\n",
       "      <th>idade</th>\n",
       "      <th>diabetes</th>\n",
       "    </tr>\n",
       "  </thead>\n",
       "  <tbody>\n",
       "    <tr>\n",
       "      <th>0</th>\n",
       "      <td>6</td>\n",
       "      <td>148</td>\n",
       "      <td>72</td>\n",
       "      <td>35</td>\n",
       "      <td>0</td>\n",
       "      <td>33.6</td>\n",
       "      <td>0.627</td>\n",
       "      <td>50</td>\n",
       "      <td>1</td>\n",
       "    </tr>\n",
       "    <tr>\n",
       "      <th>1</th>\n",
       "      <td>1</td>\n",
       "      <td>85</td>\n",
       "      <td>66</td>\n",
       "      <td>29</td>\n",
       "      <td>0</td>\n",
       "      <td>26.6</td>\n",
       "      <td>0.351</td>\n",
       "      <td>31</td>\n",
       "      <td>0</td>\n",
       "    </tr>\n",
       "    <tr>\n",
       "      <th>2</th>\n",
       "      <td>8</td>\n",
       "      <td>183</td>\n",
       "      <td>64</td>\n",
       "      <td>0</td>\n",
       "      <td>0</td>\n",
       "      <td>23.3</td>\n",
       "      <td>0.672</td>\n",
       "      <td>32</td>\n",
       "      <td>1</td>\n",
       "    </tr>\n",
       "    <tr>\n",
       "      <th>3</th>\n",
       "      <td>1</td>\n",
       "      <td>89</td>\n",
       "      <td>66</td>\n",
       "      <td>23</td>\n",
       "      <td>94</td>\n",
       "      <td>28.1</td>\n",
       "      <td>0.167</td>\n",
       "      <td>21</td>\n",
       "      <td>0</td>\n",
       "    </tr>\n",
       "    <tr>\n",
       "      <th>4</th>\n",
       "      <td>0</td>\n",
       "      <td>137</td>\n",
       "      <td>40</td>\n",
       "      <td>35</td>\n",
       "      <td>168</td>\n",
       "      <td>43.1</td>\n",
       "      <td>2.288</td>\n",
       "      <td>33</td>\n",
       "      <td>1</td>\n",
       "    </tr>\n",
       "  </tbody>\n",
       "</table>\n",
       "</div>"
      ],
      "text/plain": [
       "   gravidez  glicose  pressao_sangue  espessura_pele  insulina   IMC  \\\n",
       "0         6      148              72              35         0  33.6   \n",
       "1         1       85              66              29         0  26.6   \n",
       "2         8      183              64               0         0  23.3   \n",
       "3         1       89              66              23        94  28.1   \n",
       "4         0      137              40              35       168  43.1   \n",
       "\n",
       "   predisposicao_diabetes  idade  diabetes  \n",
       "0                   0.627     50         1  \n",
       "1                   0.351     31         0  \n",
       "2                   0.672     32         1  \n",
       "3                   0.167     21         0  \n",
       "4                   2.288     33         1  "
      ]
     },
     "execution_count": 10,
     "metadata": {},
     "output_type": "execute_result"
    }
   ],
   "source": [
    "dados_diabetes.head()"
   ]
  },
  {
   "cell_type": "markdown",
   "id": "c0c14f2c-333d-4005-8a37-c42e247d68f1",
   "metadata": {},
   "source": [
    "### Contar número de registros de cada classe "
   ]
  },
  {
   "cell_type": "code",
   "execution_count": 11,
   "id": "ea48e6e8-2cf9-4f04-b589-8e32620329e2",
   "metadata": {},
   "outputs": [
    {
     "data": {
      "text/plain": [
       "diabetes\n",
       "0    500\n",
       "1    268\n",
       "Name: diabetes, dtype: int64"
      ]
     },
     "execution_count": 11,
     "metadata": {},
     "output_type": "execute_result"
    }
   ],
   "source": [
    "dados_diabetes.groupby(['diabetes'])['diabetes'].count()"
   ]
  },
  {
   "cell_type": "markdown",
   "id": "f0596420-0b39-40c6-9cd0-e674b255dfb4",
   "metadata": {},
   "source": [
    "### Separando conjunto de dados de features e target"
   ]
  },
  {
   "cell_type": "code",
   "execution_count": 12,
   "id": "219969db-d189-4a1f-b76b-facadc1b8150",
   "metadata": {},
   "outputs": [
    {
     "data": {
      "text/plain": [
       "array([[  6.   , 148.   ,  72.   , ...,  33.6  ,   0.627,  50.   ],\n",
       "       [  1.   ,  85.   ,  66.   , ...,  26.6  ,   0.351,  31.   ],\n",
       "       [  8.   , 183.   ,  64.   , ...,  23.3  ,   0.672,  32.   ],\n",
       "       ...,\n",
       "       [  5.   , 121.   ,  72.   , ...,  26.2  ,   0.245,  30.   ],\n",
       "       [  1.   , 126.   ,  60.   , ...,  30.1  ,   0.349,  47.   ],\n",
       "       [  1.   ,  93.   ,  70.   , ...,  30.4  ,   0.315,  23.   ]])"
      ]
     },
     "execution_count": 12,
     "metadata": {},
     "output_type": "execute_result"
    }
   ],
   "source": [
    "X_dados = dados_diabetes.drop('diabetes', axis=1).values\n",
    "X_dados\n"
   ]
  },
  {
   "cell_type": "code",
   "execution_count": 13,
   "id": "c0d4afd1-cf79-4c1b-aa9f-a4cffd28af92",
   "metadata": {},
   "outputs": [
    {
     "data": {
      "text/plain": [
       "array([1, 0, 1, 0, 1, 0, 1, 0, 1, 1, 0, 1, 0, 1, 1, 1, 1, 1, 0, 1, 0, 0,\n",
       "       1, 1, 1, 1, 1, 0, 0, 0, 0, 1, 0, 0, 0, 0, 0, 1, 1, 1, 0, 0, 0, 1,\n",
       "       0, 1, 0, 0, 1, 0, 0, 0, 0, 1, 0, 0, 1, 0, 0, 0, 0, 1, 0, 0, 1, 0,\n",
       "       1, 0, 0, 0, 1, 0, 1, 0, 0, 0, 0, 0, 1, 0, 0, 0, 0, 0, 1, 0, 0, 0,\n",
       "       1, 0, 0, 0, 0, 1, 0, 0, 0, 0, 0, 1, 1, 0, 0, 0, 0, 0, 0, 0, 0, 1,\n",
       "       1, 1, 0, 0, 1, 1, 1, 0, 0, 0, 1, 0, 0, 0, 1, 1, 0, 0, 1, 1, 1, 1,\n",
       "       1, 0, 0, 0, 0, 0, 0, 0, 0, 0, 0, 1, 0, 0, 0, 0, 0, 0, 0, 0, 1, 0,\n",
       "       1, 1, 0, 0, 0, 1, 0, 0, 0, 0, 1, 1, 0, 0, 0, 0, 1, 1, 0, 0, 0, 1,\n",
       "       0, 1, 0, 1, 0, 0, 0, 0, 0, 1, 1, 1, 1, 1, 0, 0, 1, 1, 0, 1, 0, 1,\n",
       "       1, 1, 0, 0, 0, 0, 0, 0, 1, 1, 0, 1, 0, 0, 0, 1, 1, 1, 1, 0, 1, 1,\n",
       "       1, 1, 0, 0, 0, 0, 0, 1, 0, 0, 1, 1, 0, 0, 0, 1, 1, 1, 1, 0, 0, 0,\n",
       "       1, 1, 0, 1, 0, 0, 0, 0, 0, 0, 0, 0, 1, 1, 0, 0, 0, 1, 0, 1, 0, 0,\n",
       "       1, 0, 1, 0, 0, 1, 1, 0, 0, 0, 0, 0, 1, 0, 0, 0, 1, 0, 0, 1, 1, 0,\n",
       "       0, 1, 0, 0, 0, 1, 1, 1, 0, 0, 1, 0, 1, 0, 1, 1, 0, 1, 0, 0, 1, 0,\n",
       "       1, 1, 0, 0, 1, 0, 1, 0, 0, 1, 0, 1, 0, 1, 1, 1, 0, 0, 1, 0, 1, 0,\n",
       "       0, 0, 1, 0, 0, 0, 0, 1, 1, 1, 0, 0, 0, 0, 0, 0, 0, 0, 0, 1, 0, 0,\n",
       "       0, 0, 0, 1, 1, 1, 0, 1, 1, 0, 0, 1, 0, 0, 1, 0, 0, 1, 1, 0, 0, 0,\n",
       "       0, 1, 0, 0, 1, 0, 0, 0, 0, 0, 0, 0, 1, 1, 1, 0, 0, 1, 0, 0, 1, 0,\n",
       "       0, 1, 0, 1, 1, 0, 1, 0, 1, 0, 1, 0, 1, 1, 0, 0, 0, 0, 1, 1, 0, 1,\n",
       "       0, 1, 0, 0, 0, 0, 1, 1, 0, 1, 0, 1, 0, 0, 0, 0, 0, 1, 0, 0, 0, 0,\n",
       "       1, 0, 0, 1, 1, 1, 0, 0, 1, 0, 0, 1, 0, 0, 0, 1, 0, 0, 1, 0, 0, 0,\n",
       "       0, 0, 0, 0, 0, 0, 1, 0, 0, 0, 0, 0, 0, 0, 1, 0, 0, 0, 1, 0, 0, 0,\n",
       "       1, 1, 0, 0, 0, 0, 0, 0, 0, 1, 0, 0, 0, 0, 1, 0, 0, 0, 1, 0, 0, 0,\n",
       "       1, 0, 0, 0, 1, 0, 0, 0, 0, 1, 1, 0, 0, 0, 0, 0, 0, 1, 0, 0, 0, 0,\n",
       "       0, 0, 0, 0, 0, 0, 0, 1, 0, 0, 0, 1, 1, 1, 1, 0, 0, 1, 1, 0, 0, 0,\n",
       "       0, 0, 0, 0, 0, 0, 0, 0, 0, 0, 1, 1, 0, 0, 0, 0, 0, 0, 0, 1, 0, 0,\n",
       "       0, 0, 0, 0, 0, 1, 0, 1, 1, 0, 0, 0, 1, 0, 1, 0, 1, 0, 1, 0, 1, 0,\n",
       "       0, 1, 0, 0, 1, 0, 0, 0, 0, 1, 1, 0, 1, 0, 0, 0, 0, 1, 1, 0, 1, 0,\n",
       "       0, 0, 1, 1, 0, 0, 0, 0, 0, 0, 0, 0, 0, 0, 1, 0, 0, 0, 0, 1, 0, 0,\n",
       "       1, 0, 0, 0, 1, 0, 0, 0, 1, 1, 1, 0, 0, 0, 0, 0, 0, 1, 0, 0, 0, 1,\n",
       "       0, 1, 1, 1, 1, 0, 1, 1, 0, 0, 0, 0, 0, 0, 0, 1, 1, 0, 1, 0, 0, 1,\n",
       "       0, 1, 0, 0, 0, 0, 0, 1, 0, 1, 0, 1, 0, 1, 1, 0, 0, 0, 0, 1, 1, 0,\n",
       "       0, 0, 1, 0, 1, 1, 0, 0, 1, 0, 0, 1, 1, 0, 0, 1, 0, 0, 1, 0, 0, 0,\n",
       "       0, 0, 0, 0, 1, 1, 1, 0, 0, 0, 0, 0, 0, 1, 1, 0, 0, 1, 0, 0, 1, 0,\n",
       "       1, 1, 1, 0, 0, 1, 1, 1, 0, 1, 0, 1, 0, 1, 0, 0, 0, 0, 1, 0],\n",
       "      dtype=int64)"
      ]
     },
     "execution_count": 13,
     "metadata": {},
     "output_type": "execute_result"
    }
   ],
   "source": [
    "y_dados = dados_diabetes['diabetes'].values\n",
    "y_dados"
   ]
  },
  {
   "cell_type": "markdown",
   "id": "dd3e4c60-b922-4f4f-8325-d4dce2aa96d7",
   "metadata": {},
   "source": [
    "### Criando a função para balancear os dados."
   ]
  },
  {
   "cell_type": "code",
   "execution_count": 14,
   "id": "f9154903-52c2-452c-9264-2f5a45ab9f1e",
   "metadata": {},
   "outputs": [],
   "source": [
    "def balanceamento_dados(X_dados, y_dados):\n",
    "    under_sample = RandomUnderSampler(random_state= 42)\n",
    "    X_under, y_under = under_sample.fit_resample(X_dados, y_dados)\n",
    "\n",
    "    tl = TomekLinks(sampling_strategy='all') # Trabalha com outliers\n",
    "    X_under, y_under = tl.fit_resample(X_under, y_under)\n",
    "    \n",
    "    return X_under, y_under"
   ]
  },
  {
   "cell_type": "markdown",
   "id": "08436e7a-043a-4a7b-9c59-f92b42838bf2",
   "metadata": {},
   "source": [
    "### Aplicando técnica de balanceamento na base de dados"
   ]
  },
  {
   "cell_type": "code",
   "execution_count": 15,
   "id": "6a9642ce-0445-47f3-bbb6-ebd2b403d0a0",
   "metadata": {},
   "outputs": [],
   "source": [
    "X_dados_balanceados, y_dados_balanceados = balanceamento_dados(X_dados, y_dados)"
   ]
  },
  {
   "cell_type": "markdown",
   "id": "059a4939-40a4-47f9-b540-e377f7d23e46",
   "metadata": {},
   "source": [
    "### Verificando balanceamento realizada"
   ]
  },
  {
   "cell_type": "code",
   "execution_count": 16,
   "id": "27efafa7-69ad-43bc-b886-d800444262b4",
   "metadata": {},
   "outputs": [
    {
     "name": "stdout",
     "output_type": "stream",
     "text": [
      "456 456\n"
     ]
    }
   ],
   "source": [
    "print(len(X_dados_balanceados), len(y_dados_balanceados))"
   ]
  },
  {
   "cell_type": "code",
   "execution_count": 17,
   "id": "3bf9a452-11ea-46a6-9025-4fd7c6f25b06",
   "metadata": {},
   "outputs": [
    {
     "name": "stdout",
     "output_type": "stream",
     "text": [
      "Counter({0: 228, 1: 228})\n"
     ]
    }
   ],
   "source": [
    "# Outra forma de verificar o balanceamento\n",
    "import collections\n",
    "print(collections.Counter(y_dados_balanceados))"
   ]
  },
  {
   "cell_type": "markdown",
   "id": "a020d6c4-528d-4e96-b9bd-751158591021",
   "metadata": {},
   "source": [
    "### Seprando base de treino e teste"
   ]
  },
  {
   "cell_type": "code",
   "execution_count": 18,
   "id": "0937fe16-2849-4c48-82d9-4b125ae09511",
   "metadata": {},
   "outputs": [],
   "source": [
    "def separa_treino_teste(X_dados_balanceados, y_dados_balanceados):\n",
    "    X_train, X_test, y_train, y_test = train_test_split(X_dados_balanceados, \n",
    "                                                        y_dados_balanceados,\n",
    "                                                        random_state=42,\n",
    "                                                        test_size=0.2) # 80% para teste e 20% para teste\n",
    "    return X_train, X_test, y_train, y_test"
   ]
  },
  {
   "cell_type": "code",
   "execution_count": 19,
   "id": "ec782c17-d7e1-4648-8232-58d7e0d0df3c",
   "metadata": {},
   "outputs": [],
   "source": [
    "# Separando conjuntos de treino e teste\n",
    "X_train, X_test, y_train, y_test = separa_treino_teste(X_dados_balanceados, y_dados_balanceados)"
   ]
  },
  {
   "cell_type": "markdown",
   "id": "9dc3da06-ba61-421a-bc82-a9a5a6ad33ab",
   "metadata": {},
   "source": [
    "### Criando modelo de RandomForest"
   ]
  },
  {
   "cell_type": "code",
   "execution_count": 20,
   "id": "ff20a7bf-8ce9-4eca-84e2-dca32bfc5611",
   "metadata": {},
   "outputs": [],
   "source": [
    "from sklearn.ensemble import RandomForestClassifier\n",
    "\n",
    "# Criar o classificador Random Forest\n",
    "classifier = RandomForestClassifier(random_state=42)\n",
    "\n",
    "# Cria modelo de classificação\n",
    "modelo = classifier.fit(X_train, y_train)\n",
    "\n",
    "# Realiza predições\n",
    "y_pred = modelo.predict(X_test)"
   ]
  },
  {
   "cell_type": "markdown",
   "id": "f5f0dc60-951d-463b-bf57-fedb7f521feb",
   "metadata": {},
   "source": [
    "### Features importantes"
   ]
  },
  {
   "cell_type": "code",
   "execution_count": 21,
   "id": "aedef0f0-3c2e-44f2-90b8-b8983cdc874f",
   "metadata": {},
   "outputs": [
    {
     "data": {
      "text/html": [
       "<div>\n",
       "<style scoped>\n",
       "    .dataframe tbody tr th:only-of-type {\n",
       "        vertical-align: middle;\n",
       "    }\n",
       "\n",
       "    .dataframe tbody tr th {\n",
       "        vertical-align: top;\n",
       "    }\n",
       "\n",
       "    .dataframe thead th {\n",
       "        text-align: right;\n",
       "    }\n",
       "</style>\n",
       "<table border=\"1\" class=\"dataframe\">\n",
       "  <thead>\n",
       "    <tr style=\"text-align: right;\">\n",
       "      <th></th>\n",
       "      <th>importancia</th>\n",
       "    </tr>\n",
       "  </thead>\n",
       "  <tbody>\n",
       "    <tr>\n",
       "      <th>glicose</th>\n",
       "      <td>0.328321</td>\n",
       "    </tr>\n",
       "    <tr>\n",
       "      <th>IMC</th>\n",
       "      <td>0.156818</td>\n",
       "    </tr>\n",
       "    <tr>\n",
       "      <th>idade</th>\n",
       "      <td>0.140994</td>\n",
       "    </tr>\n",
       "    <tr>\n",
       "      <th>predisposicao_diabetes</th>\n",
       "      <td>0.104080</td>\n",
       "    </tr>\n",
       "    <tr>\n",
       "      <th>gravidez</th>\n",
       "      <td>0.080038</td>\n",
       "    </tr>\n",
       "    <tr>\n",
       "      <th>pressao_sangue</th>\n",
       "      <td>0.074558</td>\n",
       "    </tr>\n",
       "    <tr>\n",
       "      <th>insulina</th>\n",
       "      <td>0.059152</td>\n",
       "    </tr>\n",
       "    <tr>\n",
       "      <th>espessura_pele</th>\n",
       "      <td>0.056039</td>\n",
       "    </tr>\n",
       "  </tbody>\n",
       "</table>\n",
       "</div>"
      ],
      "text/plain": [
       "                        importancia\n",
       "glicose                    0.328321\n",
       "IMC                        0.156818\n",
       "idade                      0.140994\n",
       "predisposicao_diabetes     0.104080\n",
       "gravidez                   0.080038\n",
       "pressao_sangue             0.074558\n",
       "insulina                   0.059152\n",
       "espessura_pele             0.056039"
      ]
     },
     "execution_count": 21,
     "metadata": {},
     "output_type": "execute_result"
    }
   ],
   "source": [
    "pd.DataFrame(modelo.feature_importances_, columns=['importancia'], \n",
    "             index = ['gravidez', 'glicose', 'pressao_sangue', 'espessura_pele', 'insulina',\n",
    "                      'IMC', 'predisposicao_diabetes', 'idade']).sort_values('importancia', ascending=False)"
   ]
  },
  {
   "cell_type": "markdown",
   "id": "e4cbffc9-65e9-4d6d-a26c-45e7728bd7c4",
   "metadata": {},
   "source": [
    "### Calculando a acurácia do modelo"
   ]
  },
  {
   "cell_type": "code",
   "execution_count": 23,
   "id": "ddec8ab1-1b6b-48a5-bb3b-d2435a237a92",
   "metadata": {},
   "outputs": [
    {
     "name": "stdout",
     "output_type": "stream",
     "text": [
      "Precisão:  0.8043478260869565\n"
     ]
    }
   ],
   "source": [
    "acuraria = accuracy_score(y_test, y_pred)\n",
    "print('Precisão: ', acuraria)"
   ]
  },
  {
   "cell_type": "code",
   "execution_count": null,
   "id": "16f0d3ab-74c5-4016-8246-184647d9242c",
   "metadata": {},
   "outputs": [],
   "source": []
  }
 ],
 "metadata": {
  "kernelspec": {
   "display_name": "MODML",
   "language": "python",
   "name": "modml"
  },
  "language_info": {
   "codemirror_mode": {
    "name": "ipython",
    "version": 3
   },
   "file_extension": ".py",
   "mimetype": "text/x-python",
   "name": "python",
   "nbconvert_exporter": "python",
   "pygments_lexer": "ipython3",
   "version": "3.11.3"
  }
 },
 "nbformat": 4,
 "nbformat_minor": 5
}
